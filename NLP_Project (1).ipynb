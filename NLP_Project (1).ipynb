{
 "cells": [
  {
   "cell_type": "code",
   "execution_count": 1,
   "metadata": {
    "id": "U0rx2C_WCoRH"
   },
   "outputs": [],
   "source": [
    "import pandas as pd\n",
    "import numpy as np\n",
    "import matplotlib.pyplot as plt"
   ]
  },
  {
   "cell_type": "code",
   "execution_count": 2,
   "metadata": {
    "id": "TNRTbhSXCoRK"
   },
   "outputs": [],
   "source": [
    "df=pd.read_excel('hotel_reviews.xlsx')"
   ]
  },
  {
   "cell_type": "code",
   "execution_count": 3,
   "metadata": {
    "colab": {
     "base_uri": "https://localhost:8080/",
     "height": 424
    },
    "id": "FrmWa_0-CoRL",
    "outputId": "89fad4cd-39b5-4dd4-f099-8c84deae7f36"
   },
   "outputs": [
    {
     "data": {
      "text/html": [
       "<div>\n",
       "<style scoped>\n",
       "    .dataframe tbody tr th:only-of-type {\n",
       "        vertical-align: middle;\n",
       "    }\n",
       "\n",
       "    .dataframe tbody tr th {\n",
       "        vertical-align: top;\n",
       "    }\n",
       "\n",
       "    .dataframe thead th {\n",
       "        text-align: right;\n",
       "    }\n",
       "</style>\n",
       "<table border=\"1\" class=\"dataframe\">\n",
       "  <thead>\n",
       "    <tr style=\"text-align: right;\">\n",
       "      <th></th>\n",
       "      <th>Review</th>\n",
       "      <th>Rating</th>\n",
       "    </tr>\n",
       "  </thead>\n",
       "  <tbody>\n",
       "    <tr>\n",
       "      <th>0</th>\n",
       "      <td>nice hotel expensive parking got good deal sta...</td>\n",
       "      <td>4.0</td>\n",
       "    </tr>\n",
       "    <tr>\n",
       "      <th>1</th>\n",
       "      <td>ok nothing special charge diamond member hilto...</td>\n",
       "      <td>2.0</td>\n",
       "    </tr>\n",
       "    <tr>\n",
       "      <th>2</th>\n",
       "      <td>nice rooms not 4* experience hotel monaco seat...</td>\n",
       "      <td>3.0</td>\n",
       "    </tr>\n",
       "    <tr>\n",
       "      <th>3</th>\n",
       "      <td>unique, great stay, wonderful time hotel monac...</td>\n",
       "      <td>5.0</td>\n",
       "    </tr>\n",
       "    <tr>\n",
       "      <th>4</th>\n",
       "      <td>great stay great stay, went seahawk game aweso...</td>\n",
       "      <td>5.0</td>\n",
       "    </tr>\n",
       "    <tr>\n",
       "      <th>...</th>\n",
       "      <td>...</td>\n",
       "      <td>...</td>\n",
       "    </tr>\n",
       "    <tr>\n",
       "      <th>20486</th>\n",
       "      <td>best kept secret 3rd time staying charm, not 5...</td>\n",
       "      <td>5.0</td>\n",
       "    </tr>\n",
       "    <tr>\n",
       "      <th>20487</th>\n",
       "      <td>great location price view hotel great quick pl...</td>\n",
       "      <td>4.0</td>\n",
       "    </tr>\n",
       "    <tr>\n",
       "      <th>20488</th>\n",
       "      <td>ok just looks nice modern outside, desk staff ...</td>\n",
       "      <td>2.0</td>\n",
       "    </tr>\n",
       "    <tr>\n",
       "      <th>20489</th>\n",
       "      <td>hotel theft ruined vacation hotel opened sept ...</td>\n",
       "      <td>1.0</td>\n",
       "    </tr>\n",
       "    <tr>\n",
       "      <th>20490</th>\n",
       "      <td>people talking, ca n't believe excellent ratin...</td>\n",
       "      <td>2.0</td>\n",
       "    </tr>\n",
       "  </tbody>\n",
       "</table>\n",
       "<p>20491 rows × 2 columns</p>\n",
       "</div>"
      ],
      "text/plain": [
       "                                                  Review  Rating\n",
       "0      nice hotel expensive parking got good deal sta...     4.0\n",
       "1      ok nothing special charge diamond member hilto...     2.0\n",
       "2      nice rooms not 4* experience hotel monaco seat...     3.0\n",
       "3      unique, great stay, wonderful time hotel monac...     5.0\n",
       "4      great stay great stay, went seahawk game aweso...     5.0\n",
       "...                                                  ...     ...\n",
       "20486  best kept secret 3rd time staying charm, not 5...     5.0\n",
       "20487  great location price view hotel great quick pl...     4.0\n",
       "20488  ok just looks nice modern outside, desk staff ...     2.0\n",
       "20489  hotel theft ruined vacation hotel opened sept ...     1.0\n",
       "20490  people talking, ca n't believe excellent ratin...     2.0\n",
       "\n",
       "[20491 rows x 2 columns]"
      ]
     },
     "execution_count": 3,
     "metadata": {},
     "output_type": "execute_result"
    }
   ],
   "source": [
    "df"
   ]
  },
  {
   "cell_type": "code",
   "execution_count": 4,
   "metadata": {
    "colab": {
     "base_uri": "https://localhost:8080/"
    },
    "id": "Y-6olzspCoRM",
    "outputId": "abfb171f-cbf5-42df-e031-f5c4da209fff"
   },
   "outputs": [
    {
     "data": {
      "text/plain": [
       "5.0    9054\n",
       "4.0    6039\n",
       "3.0    2184\n",
       "2.0    1793\n",
       "1.0    1421\n",
       "Name: Rating, dtype: int64"
      ]
     },
     "execution_count": 4,
     "metadata": {},
     "output_type": "execute_result"
    }
   ],
   "source": [
    "df['Rating'].value_counts()\n"
   ]
  },
  {
   "cell_type": "code",
   "execution_count": 5,
   "metadata": {
    "id": "W07_SPb9CoRM"
   },
   "outputs": [],
   "source": [
    "import re #regular expression\n",
    "import stringstop_words = pd.read_csv('stop.txt',header=None,squeeze=True)\n",
    "stop_words\n",
    "\n",
    "def clean_text(text):\n",
    "    '''Make text lowercase, remove text in square brackets, remove punctuation and remove words containing numbers.'''\n",
    "    text = text.lower()\n",
    "    text = re.sub('\\[.*?\\]', '', text) #Replace\n",
    "    text = re.sub('[%s]' % re.escape(string.punctuation), '', text)\n",
    "    text = re.sub('\\w*\\d\\w*', '', text)\n",
    "    text = re.sub(\"[0-9\" \"]+\",\" \",text)\n",
    "    text = re.sub('[‘’“”…]', '', text)\n",
    "    return text\n",
    "\n",
    "clean = lambda x: clean_text(x)"
   ]
  },
  {
   "cell_type": "code",
   "execution_count": null,
   "metadata": {
    "id": "td6VTLYMJGZw"
   },
   "outputs": [],
   "source": []
  },
  {
   "cell_type": "code",
   "execution_count": 6,
   "metadata": {
    "id": "02j8OmjNCoRZ"
   },
   "outputs": [],
   "source": [
    "import re #regular expression\n",
    "import string\n",
    "\n",
    "def clean_text(text):\n",
    "    '''Make text lowercase, remove text in square brackets, remove punctuation and remove words containing numbers.'''\n",
    "    text = text.lower()\n",
    "    text = re.sub('\\[.*?\\]', '', text) #Replace\n",
    "    text = re.sub('[%s]' % re.escape(string.punctuation), '', text)\n",
    "    text = re.sub('\\w*\\d\\w*', '', text)\n",
    "    text = re.sub(\"[0-9\" \"]+\",\" \",text)\n",
    "    text = re.sub('[‘’“”…]', '', text)\n",
    "    return text\n",
    "\n",
    "clean = lambda x: clean_text(x)"
   ]
  },
  {
   "cell_type": "code",
   "execution_count": 7,
   "metadata": {
    "colab": {
     "base_uri": "https://localhost:8080/"
    },
    "id": "52NHGTL9CoRZ",
    "outputId": "d88f8657-38c1-4faf-fc3b-97675de2d0db"
   },
   "outputs": [
    {
     "data": {
      "text/plain": [
       "0        nice hotel expensive parking got good deal sta...\n",
       "1        ok nothing special charge diamond member hilto...\n",
       "2        nice rooms not  experience hotel monaco seattl...\n",
       "3        unique great stay wonderful time hotel monaco ...\n",
       "4        great stay great stay went seahawk game awesom...\n",
       "                               ...                        \n",
       "20486    best kept secret  time staying charm not  ca n...\n",
       "20487    great location price view hotel great quick pl...\n",
       "20488    ok just looks nice modern outside desk staff n...\n",
       "20489    hotel theft ruined vacation hotel opened sept ...\n",
       "20490    people talking ca nt believe excellent ratings...\n",
       "Name: Review, Length: 20491, dtype: object"
      ]
     },
     "execution_count": 7,
     "metadata": {},
     "output_type": "execute_result"
    }
   ],
   "source": [
    "df['Review']"
   ]
  },
  {
   "cell_type": "code",
   "execution_count": 8,
   "metadata": {
    "colab": {
     "base_uri": "https://localhost:8080/"
    },
    "id": "k51MUjyvCoRa",
    "outputId": "f3bfd7e6-f84a-415a-ac27-b0ae8e0831f1"
   },
   "outputs": [
    {
     "data": {
      "text/plain": [
       "hotel       48832\n",
       "room        34300\n",
       "not         31525\n",
       "great       21087\n",
       "nt          18989\n",
       "good        16972\n",
       "staff       16203\n",
       "stay        15153\n",
       "did         13892\n",
       "just        12589\n",
       "nice        12399\n",
       "rooms       12015\n",
       "no          11603\n",
       "location    11032\n",
       "stayed      10466\n",
       "service      9961\n",
       "time         9816\n",
       "beach        9581\n",
       "night        9423\n",
       "clean        9359\n",
       "dtype: int64"
      ]
     },
     "execution_count": 8,
     "metadata": {},
     "output_type": "execute_result"
    }
   ],
   "source": [
    "freq = pd.Series(' '.join(df['Review']).split()).value_counts()[:20] # for top 20\n",
    "freq"
   ]
  },
  {
   "cell_type": "code",
   "execution_count": 9,
   "metadata": {
    "colab": {
     "base_uri": "https://localhost:8080/"
    },
    "id": "Vjeqs2WPCoRa",
    "outputId": "820e8683-2c42-40f7-9d57-0747f0ededfa",
    "scrolled": false
   },
   "outputs": [
    {
     "name": "stderr",
     "output_type": "stream",
     "text": [
      "[nltk_data] Error loading stopwords: <urlopen error [Errno 110]\n",
      "[nltk_data]     Connection timed out>\n"
     ]
    },
    {
     "data": {
      "text/plain": [
       "['i',\n",
       " 'me',\n",
       " 'my',\n",
       " 'myself',\n",
       " 'we',\n",
       " 'our',\n",
       " 'ours',\n",
       " 'ourselves',\n",
       " 'you',\n",
       " \"you're\",\n",
       " \"you've\",\n",
       " \"you'll\",\n",
       " \"you'd\",\n",
       " 'your',\n",
       " 'yours',\n",
       " 'yourself',\n",
       " 'yourselves',\n",
       " 'he',\n",
       " 'him',\n",
       " 'his',\n",
       " 'himself',\n",
       " 'she',\n",
       " \"she's\",\n",
       " 'her',\n",
       " 'hers',\n",
       " 'herself',\n",
       " 'it',\n",
       " \"it's\",\n",
       " 'its',\n",
       " 'itself',\n",
       " 'they',\n",
       " 'them',\n",
       " 'their',\n",
       " 'theirs',\n",
       " 'themselves',\n",
       " 'what',\n",
       " 'which',\n",
       " 'who',\n",
       " 'whom',\n",
       " 'this',\n",
       " 'that',\n",
       " \"that'll\",\n",
       " 'these',\n",
       " 'those',\n",
       " 'am',\n",
       " 'is',\n",
       " 'are',\n",
       " 'was',\n",
       " 'were',\n",
       " 'be',\n",
       " 'been',\n",
       " 'being',\n",
       " 'have',\n",
       " 'has',\n",
       " 'had',\n",
       " 'having',\n",
       " 'do',\n",
       " 'does',\n",
       " 'did',\n",
       " 'doing',\n",
       " 'a',\n",
       " 'an',\n",
       " 'the',\n",
       " 'and',\n",
       " 'but',\n",
       " 'if',\n",
       " 'or',\n",
       " 'because',\n",
       " 'as',\n",
       " 'until',\n",
       " 'while',\n",
       " 'of',\n",
       " 'at',\n",
       " 'by',\n",
       " 'for',\n",
       " 'with',\n",
       " 'about',\n",
       " 'against',\n",
       " 'between',\n",
       " 'into',\n",
       " 'through',\n",
       " 'during',\n",
       " 'before',\n",
       " 'after',\n",
       " 'above',\n",
       " 'below',\n",
       " 'to',\n",
       " 'from',\n",
       " 'up',\n",
       " 'down',\n",
       " 'in',\n",
       " 'out',\n",
       " 'on',\n",
       " 'off',\n",
       " 'over',\n",
       " 'under',\n",
       " 'again',\n",
       " 'further',\n",
       " 'then',\n",
       " 'once',\n",
       " 'here',\n",
       " 'there',\n",
       " 'when',\n",
       " 'where',\n",
       " 'why',\n",
       " 'how',\n",
       " 'all',\n",
       " 'any',\n",
       " 'both',\n",
       " 'each',\n",
       " 'few',\n",
       " 'more',\n",
       " 'most',\n",
       " 'other',\n",
       " 'some',\n",
       " 'such',\n",
       " 'no',\n",
       " 'nor',\n",
       " 'only',\n",
       " 'own',\n",
       " 'same',\n",
       " 'so',\n",
       " 'than',\n",
       " 'too',\n",
       " 'very',\n",
       " 's',\n",
       " 't',\n",
       " 'can',\n",
       " 'will',\n",
       " 'just',\n",
       " 'don',\n",
       " \"don't\",\n",
       " 'should',\n",
       " \"should've\",\n",
       " 'now',\n",
       " 'd',\n",
       " 'll',\n",
       " 'm',\n",
       " 'o',\n",
       " 're',\n",
       " 've',\n",
       " 'y',\n",
       " 'ain',\n",
       " 'aren',\n",
       " \"aren't\",\n",
       " 'couldn',\n",
       " \"couldn't\",\n",
       " 'didn',\n",
       " \"didn't\",\n",
       " 'doesn',\n",
       " \"doesn't\",\n",
       " 'hadn',\n",
       " \"hadn't\",\n",
       " 'hasn',\n",
       " \"hasn't\",\n",
       " 'haven',\n",
       " \"haven't\",\n",
       " 'isn',\n",
       " \"isn't\",\n",
       " 'ma',\n",
       " 'mightn',\n",
       " \"mightn't\",\n",
       " 'mustn',\n",
       " \"mustn't\",\n",
       " 'needn',\n",
       " \"needn't\",\n",
       " 'shan',\n",
       " \"shan't\",\n",
       " 'shouldn',\n",
       " \"shouldn't\",\n",
       " 'wasn',\n",
       " \"wasn't\",\n",
       " 'weren',\n",
       " \"weren't\",\n",
       " 'won',\n",
       " \"won't\",\n",
       " 'wouldn',\n",
       " \"wouldn't\",\n",
       " 'hotel',\n",
       " 'room',\n",
       " 'rooms']"
      ]
     },
     "execution_count": 9,
     "metadata": {},
     "output_type": "execute_result"
    }
   ],
   "source": [
    "custom_words=['hotel','room','rooms']\n",
    "import nltk\n",
    "nltk.download('stopwords')\n",
    "from nltk.corpus import stopwords\n",
    "stop = stopwords.words('english')\n",
    "new_stop=stop+custom_words\n",
    "new_stop.remove(\"not\")\n",
    "new_stop"
   ]
  },
  {
   "cell_type": "code",
   "execution_count": 10,
   "metadata": {
    "colab": {
     "base_uri": "https://localhost:8080/"
    },
    "id": "Z6RCq4y3CoRb",
    "outputId": "ecd7b75e-f8fc-4c79-d012-9169ad4a914e"
   },
   "outputs": [
    {
     "data": {
      "text/plain": [
       "0        nice hotel expensive parking got good deal sta...\n",
       "1        ok nothing special charge diamond member hilto...\n",
       "2        nice rooms not  experience hotel monaco seattl...\n",
       "3        unique great stay wonderful time hotel monaco ...\n",
       "4        great stay great stay went seahawk game awesom...\n",
       "                               ...                        \n",
       "20486    best kept secret  time staying charm not  ca n...\n",
       "20487    great location price view hotel great quick pl...\n",
       "20488    ok just looks nice modern outside desk staff n...\n",
       "20489    hotel theft ruined vacation hotel opened sept ...\n",
       "20490    people talking ca nt believe excellent ratings...\n",
       "Name: Review, Length: 20491, dtype: object"
      ]
     },
     "execution_count": 10,
     "metadata": {},
     "output_type": "execute_result"
    }
   ],
   "source": [
    "df['Review']"
   ]
  },
  {
   "cell_type": "code",
   "execution_count": 11,
   "metadata": {
    "colab": {
     "base_uri": "https://localhost:8080/"
    },
    "id": "_A3w-6BRCoRb",
    "outputId": "68f65617-d379-4591-bcc9-93d99ed15bc4",
    "scrolled": true
   },
   "outputs": [
    {
     "data": {
      "text/plain": [
       "0        nice hotel expensive parking got good deal sta...\n",
       "1        ok nothing special charge diamond member hilto...\n",
       "2        nice rooms not  experience hotel monaco seattl...\n",
       "3        unique great stay wonderful time hotel monaco ...\n",
       "4        great stay great stay went seahawk game awesom...\n",
       "                               ...                        \n",
       "20486    best kept secret  time staying charm not  ca n...\n",
       "20487    great location price view hotel great quick pl...\n",
       "20488    ok just looks nice modern outside desk staff n...\n",
       "20489    hotel theft ruined vacation hotel opened sept ...\n",
       "20490    people talking ca nt believe excellent ratings...\n",
       "Name: Review, Length: 20491, dtype: object"
      ]
     },
     "execution_count": 11,
     "metadata": {},
     "output_type": "execute_result"
    }
   ],
   "source": [
    "df['Review']"
   ]
  },
  {
   "cell_type": "code",
   "execution_count": 12,
   "metadata": {
    "colab": {
     "base_uri": "https://localhost:8080/"
    },
    "id": "xoSq8YmjCoRc",
    "outputId": "c00ca859-a83e-4088-bc43-6e46e88351da"
   },
   "outputs": [
    {
     "data": {
      "text/plain": [
       "0        [nice, expensive, parking, got, good, deal, st...\n",
       "1        [ok, nothing, special, charge, diamond, member...\n",
       "2        [nice, not, , experience, monaco, seattle, goo...\n",
       "3        [unique, great, stay, wonderful, time, monaco,...\n",
       "4        [great, stay, great, stay, went, seahawk, game...\n",
       "                               ...                        \n",
       "20486    [best, kept, secret, , time, staying, charm, n...\n",
       "20487    [great, location, price, view, great, quick, p...\n",
       "20488    [ok, looks, nice, modern, outside, desk, staff...\n",
       "20489    [theft, ruined, vacation, opened, sept, , , gu...\n",
       "20490    [people, talking, ca, nt, believe, excellent, ...\n",
       "Name: Review, Length: 20491, dtype: object"
      ]
     },
     "execution_count": 12,
     "metadata": {},
     "output_type": "execute_result"
    }
   ],
   "source": [
    "df.Review=df.Review.apply(lambda x: [word for word in x.split(' ') if word not in set(new_stop)])\n",
    "df['Review']\n"
   ]
  },
  {
   "cell_type": "code",
   "execution_count": 13,
   "metadata": {
    "id": "i6GuzTI3CoRc"
   },
   "outputs": [],
   "source": [
    "from nltk.stem import PorterStemmer,WordNetLemmatizer\n",
    "ps=PorterStemmer()\n",
    "le=WordNetLemmatizer()"
   ]
  },
  {
   "cell_type": "code",
   "execution_count": 14,
   "metadata": {
    "colab": {
     "base_uri": "https://localhost:8080/"
    },
    "id": "8WYf7BzbCoRd",
    "outputId": "e4d16e1f-ec10-4d16-e58f-b7e8741e0bab"
   },
   "outputs": [
    {
     "data": {
      "text/plain": [
       "0        [nice, expens, park, got, good, deal, stay, an...\n",
       "1        [ok, noth, special, charg, diamond, member, hi...\n",
       "2        [nice, not, , experi, monaco, seattl, good, nt...\n",
       "3        [uniqu, great, stay, wonder, time, monaco, loc...\n",
       "4        [great, stay, great, stay, went, seahawk, game...\n",
       "                               ...                        \n",
       "20486    [best, kept, secret, , time, stay, charm, not,...\n",
       "20487    [great, locat, price, view, great, quick, plac...\n",
       "20488    [ok, look, nice, modern, outsid, desk, staff, ...\n",
       "20489    [theft, ruin, vacat, open, sept, , , guest, we...\n",
       "20490    [peopl, talk, ca, nt, believ, excel, rate, nt,...\n",
       "Name: Review, Length: 20491, dtype: object"
      ]
     },
     "execution_count": 14,
     "metadata": {},
     "output_type": "execute_result"
    }
   ],
   "source": [
    "df.Review=df.Review.apply(lambda x: [ps.stem(word) for word in x])\n",
    "df['Review']"
   ]
  },
  {
   "cell_type": "code",
   "execution_count": 15,
   "metadata": {
    "colab": {
     "base_uri": "https://localhost:8080/"
    },
    "id": "sS6gbpFuCoRd",
    "outputId": "81699a01-6f17-468e-ee9a-1d4593966334"
   },
   "outputs": [
    {
     "data": {
      "text/plain": [
       "0        [nice, expens, park, got, good, deal, stay, an...\n",
       "1        [ok, noth, special, charg, diamond, member, hi...\n",
       "2        [nice, not, , experi, monaco, seattl, good, nt...\n",
       "3        [uniqu, great, stay, wonder, time, monaco, loc...\n",
       "4        [great, stay, great, stay, went, seahawk, game...\n",
       "                               ...                        \n",
       "20486    [best, kept, secret, , time, stay, charm, not,...\n",
       "20487    [great, locat, price, view, great, quick, plac...\n",
       "20488    [ok, look, nice, modern, outsid, desk, staff, ...\n",
       "20489    [theft, ruin, vacat, open, sept, , , guest, we...\n",
       "20490    [peopl, talk, ca, nt, believ, excel, rate, nt,...\n",
       "Name: Review, Length: 20491, dtype: object"
      ]
     },
     "execution_count": 15,
     "metadata": {},
     "output_type": "execute_result"
    }
   ],
   "source": [
    "df['Review']"
   ]
  },
  {
   "cell_type": "code",
   "execution_count": 16,
   "metadata": {
    "id": "IH6za0mvCoRe"
   },
   "outputs": [],
   "source": [
    "df['Review']=df.Review.apply(lambda x:' '.join(x))"
   ]
  },
  {
   "cell_type": "code",
   "execution_count": 17,
   "metadata": {
    "colab": {
     "base_uri": "https://localhost:8080/",
     "height": 424
    },
    "id": "58wAx86bCoRe",
    "outputId": "640a970f-4672-4717-c016-c07053180aa5",
    "scrolled": true
   },
   "outputs": [
    {
     "data": {
      "text/html": [
       "<div>\n",
       "<style scoped>\n",
       "    .dataframe tbody tr th:only-of-type {\n",
       "        vertical-align: middle;\n",
       "    }\n",
       "\n",
       "    .dataframe tbody tr th {\n",
       "        vertical-align: top;\n",
       "    }\n",
       "\n",
       "    .dataframe thead th {\n",
       "        text-align: right;\n",
       "    }\n",
       "</style>\n",
       "<table border=\"1\" class=\"dataframe\">\n",
       "  <thead>\n",
       "    <tr style=\"text-align: right;\">\n",
       "      <th></th>\n",
       "      <th>Review</th>\n",
       "      <th>Rating</th>\n",
       "      <th>Rating_2</th>\n",
       "    </tr>\n",
       "  </thead>\n",
       "  <tbody>\n",
       "    <tr>\n",
       "      <th>0</th>\n",
       "      <td>nice expens park got good deal stay anniversar...</td>\n",
       "      <td>4.0</td>\n",
       "      <td>positive</td>\n",
       "    </tr>\n",
       "    <tr>\n",
       "      <th>1</th>\n",
       "      <td>ok noth special charg diamond member hilton de...</td>\n",
       "      <td>2.0</td>\n",
       "      <td>negative</td>\n",
       "    </tr>\n",
       "    <tr>\n",
       "      <th>2</th>\n",
       "      <td>nice not  experi monaco seattl good nt  levelp...</td>\n",
       "      <td>3.0</td>\n",
       "      <td>neutral</td>\n",
       "    </tr>\n",
       "    <tr>\n",
       "      <th>3</th>\n",
       "      <td>uniqu great stay wonder time monaco locat exce...</td>\n",
       "      <td>5.0</td>\n",
       "      <td>positive</td>\n",
       "    </tr>\n",
       "    <tr>\n",
       "      <th>4</th>\n",
       "      <td>great stay great stay went seahawk game awesom...</td>\n",
       "      <td>5.0</td>\n",
       "      <td>positive</td>\n",
       "    </tr>\n",
       "    <tr>\n",
       "      <th>...</th>\n",
       "      <td>...</td>\n",
       "      <td>...</td>\n",
       "      <td>...</td>\n",
       "    </tr>\n",
       "    <tr>\n",
       "      <th>20486</th>\n",
       "      <td>best kept secret  time stay charm not  ca nt b...</td>\n",
       "      <td>5.0</td>\n",
       "      <td>positive</td>\n",
       "    </tr>\n",
       "    <tr>\n",
       "      <th>20487</th>\n",
       "      <td>great locat price view great quick place sight...</td>\n",
       "      <td>4.0</td>\n",
       "      <td>positive</td>\n",
       "    </tr>\n",
       "    <tr>\n",
       "      <th>20488</th>\n",
       "      <td>ok look nice modern outsid desk staff nt parti...</td>\n",
       "      <td>2.0</td>\n",
       "      <td>negative</td>\n",
       "    </tr>\n",
       "    <tr>\n",
       "      <th>20489</th>\n",
       "      <td>theft ruin vacat open sept   guest week happi ...</td>\n",
       "      <td>1.0</td>\n",
       "      <td>negative</td>\n",
       "    </tr>\n",
       "    <tr>\n",
       "      <th>20490</th>\n",
       "      <td>peopl talk ca nt believ excel rate nt ye patri...</td>\n",
       "      <td>2.0</td>\n",
       "      <td>negative</td>\n",
       "    </tr>\n",
       "  </tbody>\n",
       "</table>\n",
       "<p>20491 rows × 3 columns</p>\n",
       "</div>"
      ],
      "text/plain": [
       "                                                  Review  Rating  Rating_2\n",
       "0      nice expens park got good deal stay anniversar...     4.0  positive\n",
       "1      ok noth special charg diamond member hilton de...     2.0  negative\n",
       "2      nice not  experi monaco seattl good nt  levelp...     3.0   neutral\n",
       "3      uniqu great stay wonder time monaco locat exce...     5.0  positive\n",
       "4      great stay great stay went seahawk game awesom...     5.0  positive\n",
       "...                                                  ...     ...       ...\n",
       "20486  best kept secret  time stay charm not  ca nt b...     5.0  positive\n",
       "20487  great locat price view great quick place sight...     4.0  positive\n",
       "20488  ok look nice modern outsid desk staff nt parti...     2.0  negative\n",
       "20489  theft ruin vacat open sept   guest week happi ...     1.0  negative\n",
       "20490  peopl talk ca nt believ excel rate nt ye patri...     2.0  negative\n",
       "\n",
       "[20491 rows x 3 columns]"
      ]
     },
     "execution_count": 17,
     "metadata": {},
     "output_type": "execute_result"
    }
   ],
   "source": [
    "df['Rating_2']=pd.cut(df.Rating,[0,2,3,5],labels=['negative','neutral','positive'])\n",
    "df"
   ]
  },
  {
   "cell_type": "markdown",
   "metadata": {
    "id": "mS8TlmHLCoRf"
   },
   "source": [
    "# count vecotorizer"
   ]
  },
  {
   "cell_type": "code",
   "execution_count": 79,
   "metadata": {
    "id": "_yzJXr_UCoRh"
   },
   "outputs": [],
   "source": [
    "from sklearn.feature_extraction.text import CountVectorizer,TfidfVectorizer\n",
    "cv=CountVectorizer()"
   ]
  },
  {
   "cell_type": "code",
   "execution_count": 80,
   "metadata": {
    "id": "QS90A71vCoRh"
   },
   "outputs": [],
   "source": [
    "tf=TfidfVectorizer()"
   ]
  },
  {
   "cell_type": "code",
   "execution_count": 81,
   "metadata": {
    "id": "63i9UvQmCoRj"
   },
   "outputs": [],
   "source": [
    "x=df['Review']\n",
    "X=np.array(x).reshape(-1,1)\n"
   ]
  },
  {
   "cell_type": "code",
   "execution_count": 82,
   "metadata": {
    "id": "GabmjfXkCoRj"
   },
   "outputs": [],
   "source": [
    "y=df['Rating_2']\n",
    "from sklearn.preprocessing import LabelEncoder\n",
    "le=LabelEncoder()\n",
    "Y=le.fit_transform(y)"
   ]
  },
  {
   "cell_type": "code",
   "execution_count": null,
   "metadata": {
    "id": "HpPzHY3ZwE9g"
   },
   "outputs": [],
   "source": []
  },
  {
   "cell_type": "code",
   "execution_count": 83,
   "metadata": {
    "id": "kvZlxi6MCoRk"
   },
   "outputs": [],
   "source": [
    "from sklearn.model_selection import train_test_split\n",
    "x_train,x_test,y_train,y_test=train_test_split(X,Y,random_state=1)"
   ]
  },
  {
   "cell_type": "code",
   "execution_count": 84,
   "metadata": {
    "colab": {
     "base_uri": "https://localhost:8080/"
    },
    "id": "42h4o9mPCoRk",
    "outputId": "cc45b220-b007-4d9d-c4aa-00061a225b9c"
   },
   "outputs": [
    {
     "data": {
      "text/plain": [
       "((15368, 1), (15368,))"
      ]
     },
     "execution_count": 84,
     "metadata": {},
     "output_type": "execute_result"
    }
   ],
   "source": [
    "x_train.shape,y_train.shape"
   ]
  },
  {
   "cell_type": "code",
   "execution_count": 85,
   "metadata": {
    "colab": {
     "base_uri": "https://localhost:8080/"
    },
    "id": "JabUBw0wCoRl",
    "outputId": "1ec49d31-ccf2-4a8d-8e12-9825f371afda"
   },
   "outputs": [
    {
     "data": {
      "text/plain": [
       "array([['fantast partner return  night stay confortel auditori sing prais onlin research visit trip advisor hear review not disappoint locat great metro station stone throw provid access major attract base quiet commercialtourist area great valu money class air condit free mini bar stock bathroom recommend bakeri road excel chines restaur short distanc away  '],\n",
       "       ['enjoy stay week reloc search apart spaciou comfort furnish larg desk nice bath restaur vari menu attent staff personnel help offer great advic transit singapor easier  '],\n",
       "       ['great locat mediocr stay  night  confer good locat squar situat french quarter block west bourbon street  block north canal street jackson squar harrah casino  minut walk away confer center  minut walk sister restaur pat obrien brennan broussard  mintu walk hotelthi  type peopl young couplessingl children interest parti french quarter individu attend confer center realli consid look arriv  told nt check  gym chang leav stuff deskth worn feel carpet furnitur upholesteri appear quit use exercis facil tenth floor small pool greenish appear water  functionaltreadmil  bicycl substandard holiday innth averag mattress comfort ac work bathroom not fan got quit humid elev slow timesal thing consid disappoint especi given paid given rare serv purpos  '],\n",
       "       ...,\n",
       "       ['amistad  point wow amistad stay amsterdam pleasnent home mom speciali woke earlier breakfast cuteboy  point  '],\n",
       "       ['absolut perfect mu husband stay number time sheraton park sydney not say love servic wonder friendli courteou staff spaciou beauti central bathroom larg comfort not hesit recommend  '],\n",
       "       ['nice bewar  parkingvalet fee great locat clean comfi stylish great servic nice view  park fee expect  serious  buck hurt cough money  ']],\n",
       "      dtype=object)"
      ]
     },
     "execution_count": 85,
     "metadata": {},
     "output_type": "execute_result"
    }
   ],
   "source": [
    "x_train"
   ]
  },
  {
   "cell_type": "code",
   "execution_count": 86,
   "metadata": {
    "colab": {
     "base_uri": "https://localhost:8080/"
    },
    "id": "rAEVLCgKCoRn",
    "outputId": "a1886c89-1ab3-4a9a-9d2f-d720b571873c"
   },
   "outputs": [
    {
     "data": {
      "text/plain": [
       "2    11290\n",
       "0     2401\n",
       "1     1677\n",
       "dtype: int64"
      ]
     },
     "execution_count": 86,
     "metadata": {},
     "output_type": "execute_result"
    }
   ],
   "source": [
    "pd.value_counts(y_train)"
   ]
  },
  {
   "cell_type": "code",
   "execution_count": 87,
   "metadata": {},
   "outputs": [
    {
     "name": "stdout",
     "output_type": "stream",
     "text": [
      "Requirement already satisfied: imblearn in /home/jyotipriya/anaconda3/lib/python3.9/site-packages (0.0)\n",
      "Requirement already satisfied: imbalanced-learn in /home/jyotipriya/anaconda3/lib/python3.9/site-packages (from imblearn) (0.10.1)\n",
      "Requirement already satisfied: threadpoolctl>=2.0.0 in /home/jyotipriya/anaconda3/lib/python3.9/site-packages (from imbalanced-learn->imblearn) (2.2.0)\n",
      "Requirement already satisfied: joblib>=1.1.1 in /home/jyotipriya/anaconda3/lib/python3.9/site-packages (from imbalanced-learn->imblearn) (1.2.0)\n",
      "Requirement already satisfied: scikit-learn>=1.0.2 in /home/jyotipriya/anaconda3/lib/python3.9/site-packages (from imbalanced-learn->imblearn) (1.0.2)\n",
      "Requirement already satisfied: scipy>=1.3.2 in /home/jyotipriya/anaconda3/lib/python3.9/site-packages (from imbalanced-learn->imblearn) (1.7.3)\n",
      "Requirement already satisfied: numpy>=1.17.3 in /home/jyotipriya/anaconda3/lib/python3.9/site-packages (from imbalanced-learn->imblearn) (1.21.5)\n"
     ]
    }
   ],
   "source": [
    "!pip install imblearn"
   ]
  },
  {
   "cell_type": "code",
   "execution_count": 88,
   "metadata": {
    "id": "MYt7JwV8CoRo"
   },
   "outputs": [],
   "source": [
    "from imblearn.over_sampling import RandomOverSampler"
   ]
  },
  {
   "cell_type": "code",
   "execution_count": 89,
   "metadata": {
    "id": "s8iAn4Z_JjLn"
   },
   "outputs": [],
   "source": [
    "ovr=RandomOverSampler()\n",
    "x_resample,y_resample=ovr.fit_resample(x_train,y_train)"
   ]
  },
  {
   "cell_type": "code",
   "execution_count": 90,
   "metadata": {
    "colab": {
     "base_uri": "https://localhost:8080/"
    },
    "id": "UXV_DYOiMqpl",
    "outputId": "47bf7118-6a44-415c-dab2-30eb17134b5d"
   },
   "outputs": [
    {
     "data": {
      "text/plain": [
       "2    11290\n",
       "1    11290\n",
       "0    11290\n",
       "dtype: int64"
      ]
     },
     "execution_count": 90,
     "metadata": {},
     "output_type": "execute_result"
    }
   ],
   "source": [
    "pd.value_counts(y_resample)"
   ]
  },
  {
   "cell_type": "code",
   "execution_count": 91,
   "metadata": {
    "id": "BZa5Re4tsC-c"
   },
   "outputs": [],
   "source": [
    "X_resample=x_resample[:,0]"
   ]
  },
  {
   "cell_type": "code",
   "execution_count": 92,
   "metadata": {
    "id": "3Id8oi6EwvSr"
   },
   "outputs": [],
   "source": [
    "convert=tf.fit_transform(X_resample)"
   ]
  },
  {
   "cell_type": "code",
   "execution_count": 93,
   "metadata": {
    "id": "bjVxYcHZsJvU"
   },
   "outputs": [],
   "source": [
    "from sklearn.ensemble import  RandomForestClassifier\n",
    "RF=RandomForestClassifier()"
   ]
  },
  {
   "cell_type": "code",
   "execution_count": 94,
   "metadata": {
    "id": "YeoQUdDXvQnT"
   },
   "outputs": [],
   "source": [
    "model=RF.fit(convert,y_resample)"
   ]
  },
  {
   "cell_type": "code",
   "execution_count": 95,
   "metadata": {
    "id": "ilo57BOfvW1w"
   },
   "outputs": [],
   "source": [
    "from sklearn.metrics import accuracy_score,classification_report"
   ]
  },
  {
   "cell_type": "code",
   "execution_count": 96,
   "metadata": {
    "colab": {
     "base_uri": "https://localhost:8080/"
    },
    "id": "cwYaYAadvxtP",
    "outputId": "d9952527-356d-41d3-bc74-693a40c52efb"
   },
   "outputs": [
    {
     "data": {
      "text/plain": [
       "array([['great locat valu cautiou stay locat like tourist prefer near tiananmen squar honestli prefer site northeast citi near embassi fantast shop westernstyl bar great chines restaur taxi ride took  minut cost  top modern help doorman desk staff standard renaiss tast function subtli luxuri health club big subpar equip pool gorgeou perfect postflight refresh platinum member got use club loung fantast includ gener breakfast nt eat restaur explor beij downsid spa sauna locker  '],\n",
       "       [' trip paradisu  time paradisu  year wed anniversari went riu year ago decid realli want paradisu  let start say bahama caymen island beauti landscap hotel pool gorgeou plenti area away tuck away nook place peopl unbeliev friendli happi question languag barrier countri quick tip good thing disappoint  arriv airport porter swarm bag let bag carri feet want tip thing return airport time insist carri bag   time punta cana taken pepto tablet morn safe problem time forgot bring antacid  day day  got montazumait  day feel affect advic antacid tabletsi got bad heartburn day pepto tablet morn feel  got great advic review bring chill cup drink got migo plastic chill cup straw target fewer trip beach bar  bring cork screw order bottl wine head beach wine return cork screw servic got shower nt leav time got head door  pillow flat pancak pack extra bag bring pillow  friend stay resort complain mosquito feel damp buidl  build  close beach nt damp problem morn left husband woke  bite elbow night slept long sleev shirt free attack  tip total option treat regardless tip not told staff anniversari resort flower day saw clean ladi middl week gave  tip bell boy help bag  bring snack snack peanut pizza pizza great day nt job pack snack beach  concierg dinner reserv new place dine call fuegoi nt recommend twicenot choic food not good tell servic staff green probabl  waiter approach knew waiter sakura japanes restaur best food opinion concierg told stay week nt push hard suddenli way hmmm strang told difficult restaur got  entir meal  italian restaraunt great late night pizza bottl wine white wine dri red decent let  orang juic delici enjoy mixtur oj pineappl juic morn omelett good  '],\n",
       "       ['best staff husband stay casci night spaciou clean bathroom appear recent updat clean bright staff outstand help friendliest hotel stay trip book museum advanc book restaur excel recommend avail breakfast basic good not deadcent short walk major attract minut walk view david not glamour glitz cozi comfort  '],\n",
       "       ...,\n",
       "       ['comfort love design cornerroom new surpris inclus entri garden loung nice view balconi breakfast floor clean larg excel bathroom bed breakfast surprisingli good wonder present fresh atmospher berlin big pay attent want visit night account search subway connect good prepar travel away center  '],\n",
       "       ['great locat great servic silla locat arno river view duomo short walk uffizi pont vecchio comfort staff help person reserv uffiz academi michaelangelo david walk park car garag minut away major site florenc silla stay heartbeat  '],\n",
       "       ['love stay night ritz carlton corner execut suit fantast view bay magnific stand shower look bathroom loung window time extrem spaciou high ceil bigger bed extrem comfort marvel pillow plu bathroom fantast wonder appoint sort thing soap bubbl bath bath oil shower gel shampoo towel robe nice fluffyw ate quit bit restaur breakfast lunch dinner choic buffet meal look great like order menu impress food hot tasti fresh ask quit set gym overlook pool earli morn ca nt sleep great workout nt use pool look invitingth staff excel said hello eager helpi stay number  star hotel not quit underst quiet eleg singapor season definit stay  ']],\n",
       "      dtype=object)"
      ]
     },
     "execution_count": 96,
     "metadata": {},
     "output_type": "execute_result"
    }
   ],
   "source": [
    "x_test"
   ]
  },
  {
   "cell_type": "code",
   "execution_count": 97,
   "metadata": {
    "id": "m3BvLX6uxvWf"
   },
   "outputs": [],
   "source": [
    "X_test=x_test[:,0]"
   ]
  },
  {
   "cell_type": "code",
   "execution_count": 98,
   "metadata": {
    "id": "6xrXYbBGx2D-"
   },
   "outputs": [],
   "source": [
    "test_convert=tf.transform(X_test)"
   ]
  },
  {
   "cell_type": "markdown",
   "metadata": {
    "id": "kcNaLDQEwwV4"
   },
   "source": []
  },
  {
   "cell_type": "code",
   "execution_count": 99,
   "metadata": {
    "id": "95UUua15ySqB"
   },
   "outputs": [],
   "source": [
    "y_pred=model.predict(test_convert)"
   ]
  },
  {
   "cell_type": "code",
   "execution_count": 100,
   "metadata": {
    "colab": {
     "base_uri": "https://localhost:8080/"
    },
    "id": "lz76k9mQyqrp",
    "outputId": "dd988590-394c-4828-e2ee-b315f23b239b"
   },
   "outputs": [
    {
     "data": {
      "text/plain": [
       "0.8219793089986336"
      ]
     },
     "execution_count": 100,
     "metadata": {},
     "output_type": "execute_result"
    }
   ],
   "source": [
    "acc=accuracy_score(y_pred,y_test)\n",
    "acc"
   ]
  },
  {
   "cell_type": "code",
   "execution_count": 101,
   "metadata": {
    "id": "pl2zzQ7XPP50"
   },
   "outputs": [],
   "source": [
    "from sklearn.naive_bayes import MultinomialNB\n",
    "mb=MultinomialNB()"
   ]
  },
  {
   "cell_type": "code",
   "execution_count": 102,
   "metadata": {
    "id": "Qk5JhZUvPP71"
   },
   "outputs": [],
   "source": [
    "model_nb= mb.fit(convert,y_resample)"
   ]
  },
  {
   "cell_type": "code",
   "execution_count": 103,
   "metadata": {
    "id": "PnfmGrNnPP_e"
   },
   "outputs": [],
   "source": [
    "nb_predict=model_nb.predict(test_convert)"
   ]
  },
  {
   "cell_type": "code",
   "execution_count": 104,
   "metadata": {
    "colab": {
     "base_uri": "https://localhost:8080/"
    },
    "id": "KR4RtLanPQB2",
    "outputId": "71beeb38-4df2-4cd0-e9a6-39ea108a978b"
   },
   "outputs": [
    {
     "name": "stdout",
     "output_type": "stream",
     "text": [
      "              precision    recall  f1-score   support\n",
      "\n",
      "           0       0.77      0.68      0.72       930\n",
      "           1       0.60      0.25      0.35      1227\n",
      "           2       0.75      0.96      0.84      2966\n",
      "\n",
      "    accuracy                           0.74      5123\n",
      "   macro avg       0.71      0.63      0.64      5123\n",
      "weighted avg       0.72      0.74      0.70      5123\n",
      "\n"
     ]
    }
   ],
   "source": [
    "print(classification_report(nb_predict,y_test))"
   ]
  },
  {
   "cell_type": "markdown",
   "metadata": {
    "id": "5eKQ-7hvw4d_"
   },
   "source": []
  },
  {
   "cell_type": "code",
   "execution_count": 105,
   "metadata": {
    "colab": {
     "base_uri": "https://localhost:8080/"
    },
    "id": "wEsOVVdrPQFE",
    "outputId": "df843c8e-aeac-4b6f-d55a-025c4709b1c5"
   },
   "outputs": [
    {
     "data": {
      "text/plain": [
       "0.7399960960374781"
      ]
     },
     "execution_count": 105,
     "metadata": {},
     "output_type": "execute_result"
    }
   ],
   "source": [
    "accuracy_score(nb_predict,y_test)"
   ]
  },
  {
   "cell_type": "code",
   "execution_count": 106,
   "metadata": {
    "colab": {
     "base_uri": "https://localhost:8080/"
    },
    "id": "InzCSx9_PQHh",
    "outputId": "2e4d8218-8324-4226-ce5f-18a1b0404800"
   },
   "outputs": [
    {
     "data": {
      "text/plain": [
       "2    11290\n",
       "1    11290\n",
       "0    11290\n",
       "dtype: int64"
      ]
     },
     "execution_count": 106,
     "metadata": {},
     "output_type": "execute_result"
    }
   ],
   "source": [
    "pd.value_counts(y_resample)"
   ]
  },
  {
   "cell_type": "code",
   "execution_count": 107,
   "metadata": {
    "colab": {
     "base_uri": "https://localhost:8080/"
    },
    "id": "EY-Zp3kvy1A5",
    "outputId": "92cb384a-3165-4d6f-d439-cc860c575bd1"
   },
   "outputs": [
    {
     "name": "stdout",
     "output_type": "stream",
     "text": [
      "Requirement already satisfied: textblob in /home/jyotipriya/anaconda3/lib/python3.9/site-packages (0.17.1)\n",
      "Requirement already satisfied: nltk>=3.1 in /home/jyotipriya/anaconda3/lib/python3.9/site-packages (from textblob) (3.7)\n",
      "Requirement already satisfied: click in /home/jyotipriya/anaconda3/lib/python3.9/site-packages (from nltk>=3.1->textblob) (8.0.4)\n",
      "Requirement already satisfied: regex>=2021.8.3 in /home/jyotipriya/anaconda3/lib/python3.9/site-packages (from nltk>=3.1->textblob) (2022.3.15)\n",
      "Requirement already satisfied: tqdm in /home/jyotipriya/anaconda3/lib/python3.9/site-packages (from nltk>=3.1->textblob) (4.64.0)\n",
      "Requirement already satisfied: joblib in /home/jyotipriya/anaconda3/lib/python3.9/site-packages (from nltk>=3.1->textblob) (1.2.0)\n"
     ]
    }
   ],
   "source": [
    "!pip install textblob"
   ]
  },
  {
   "cell_type": "code",
   "execution_count": 108,
   "metadata": {
    "id": "tKUv5uv0MKkc"
   },
   "outputs": [],
   "source": [
    "from textblob import TextBlob"
   ]
  },
  {
   "cell_type": "code",
   "execution_count": 109,
   "metadata": {
    "id": "zE9zOKj8MiON"
   },
   "outputs": [],
   "source": [
    "from typing_extensions import Text\n"
   ]
  },
  {
   "cell_type": "code",
   "execution_count": 110,
   "metadata": {
    "id": "S5NOXRLT_Kv_"
   },
   "outputs": [],
   "source": [
    "txt=TextBlob(df['Review'][1])"
   ]
  },
  {
   "cell_type": "code",
   "execution_count": 111,
   "metadata": {
    "colab": {
     "base_uri": "https://localhost:8080/"
    },
    "id": "kK3DimBxDxS4",
    "outputId": "983c51f4-6d8d-4af3-b34b-47bed439ba61"
   },
   "outputs": [
    {
     "data": {
      "text/plain": [
       "TextBlob(\"ok noth special charg diamond member hilton decid chain shot  anniversari seattl start book suit paid extra websit descript not suit bedroom bathroom standard took print reserv desk show said thing like tv couch ect desk clerk told oh mix suit descript kimpton websit sorri free breakfast got kid embassi suit sit bathroom bedroom unlik kimpton call suit  day stay offer correct fals advertis send kimpton prefer guest websit email ask failur provid suit advertis websit reserv descript furnish hard copi reserv printout websit desk manag duti not repli solut send email trip guest survey not follow email mail guess tell concern guestth staff rang indiffer not help ask desk good breakfast spot neighborhood hood told hotel gee best breakfast spot seattl  block away conveni not know exist arriv late night  pm insid run bellman busi chate cell phone help bagsprior arriv email inform  anniversari half realli picki want make sure good got nice email say like deliv bottl champagn chocol cover strawberri arriv celebr told need foam pillow arriv champagn strawberri foam pillow great view alley high rise build good not better housekeep staff cleaner properti impress left morn shop got short trip  hour bed comfortablenot good acheat control  x  inch screen bring green shine directli eye night light sensit tape controlsthi not  start clean busi super high rate better chain hotel seattl  \")"
      ]
     },
     "execution_count": 111,
     "metadata": {},
     "output_type": "execute_result"
    }
   ],
   "source": [
    "txt"
   ]
  },
  {
   "cell_type": "code",
   "execution_count": 112,
   "metadata": {
    "colab": {
     "base_uri": "https://localhost:8080/"
    },
    "id": "llLH8IoODys-",
    "outputId": "c1fce6a9-fa51-4a80-cc57-338095f9638d"
   },
   "outputs": [
    {
     "data": {
      "text/plain": [
       "0.2949542124542125"
      ]
     },
     "execution_count": 112,
     "metadata": {},
     "output_type": "execute_result"
    }
   ],
   "source": [
    "txt.sentiment.polarity"
   ]
  },
  {
   "cell_type": "code",
   "execution_count": 113,
   "metadata": {
    "colab": {
     "base_uri": "https://localhost:8080/"
    },
    "id": "hNt_24yPFtr_",
    "outputId": "65f020cf-da31-4df3-a3a1-6394869b3800"
   },
   "outputs": [
    {
     "name": "stdout",
     "output_type": "stream",
     "text": [
      "Requirement already satisfied: vaderSentiment in /home/jyotipriya/anaconda3/lib/python3.9/site-packages (3.3.2)\n",
      "Requirement already satisfied: requests in /home/jyotipriya/anaconda3/lib/python3.9/site-packages (from vaderSentiment) (2.27.1)\n",
      "Requirement already satisfied: certifi>=2017.4.17 in /home/jyotipriya/anaconda3/lib/python3.9/site-packages (from requests->vaderSentiment) (2022.6.15)\n",
      "Requirement already satisfied: urllib3<1.27,>=1.21.1 in /home/jyotipriya/anaconda3/lib/python3.9/site-packages (from requests->vaderSentiment) (1.26.9)\n",
      "Requirement already satisfied: charset-normalizer~=2.0.0 in /home/jyotipriya/anaconda3/lib/python3.9/site-packages (from requests->vaderSentiment) (2.0.4)\n",
      "Requirement already satisfied: idna<4,>=2.5 in /home/jyotipriya/anaconda3/lib/python3.9/site-packages (from requests->vaderSentiment) (3.3)\n"
     ]
    }
   ],
   "source": [
    "!pip install vaderSentiment"
   ]
  },
  {
   "cell_type": "code",
   "execution_count": null,
   "metadata": {
    "id": "dowWD1SmxFdM"
   },
   "outputs": [],
   "source": []
  },
  {
   "cell_type": "code",
   "execution_count": 114,
   "metadata": {
    "id": "HN-keOAJEhso"
   },
   "outputs": [],
   "source": [
    "from vaderSentiment.vaderSentiment import SentimentIntensityAnalyzer\n",
    "sentiment = SentimentIntensityAnalyzer()"
   ]
  },
  {
   "cell_type": "code",
   "execution_count": 115,
   "metadata": {
    "id": "SUeK_0HxFrqP"
   },
   "outputs": [],
   "source": [
    "df['score']=df['Review'].apply(lambda Review:sentiment.polarity_scores(Review))"
   ]
  },
  {
   "cell_type": "code",
   "execution_count": 116,
   "metadata": {
    "id": "s3ZYJt1HF92I"
   },
   "outputs": [],
   "source": [
    "df['compound']=df['score'].apply(lambda new_score:new_score['compound'])"
   ]
  },
  {
   "cell_type": "code",
   "execution_count": 117,
   "metadata": {
    "colab": {
     "base_uri": "https://localhost:8080/",
     "height": 424
    },
    "id": "uQ7ILW27It8L",
    "outputId": "6ec132f4-bb50-4eb7-9a67-612533cea60c"
   },
   "outputs": [
    {
     "data": {
      "text/html": [
       "<div>\n",
       "<style scoped>\n",
       "    .dataframe tbody tr th:only-of-type {\n",
       "        vertical-align: middle;\n",
       "    }\n",
       "\n",
       "    .dataframe tbody tr th {\n",
       "        vertical-align: top;\n",
       "    }\n",
       "\n",
       "    .dataframe thead th {\n",
       "        text-align: right;\n",
       "    }\n",
       "</style>\n",
       "<table border=\"1\" class=\"dataframe\">\n",
       "  <thead>\n",
       "    <tr style=\"text-align: right;\">\n",
       "      <th></th>\n",
       "      <th>Review</th>\n",
       "      <th>Rating</th>\n",
       "      <th>Rating_2</th>\n",
       "      <th>score</th>\n",
       "      <th>compound</th>\n",
       "      <th>polarity</th>\n",
       "      <th>subjectivity</th>\n",
       "      <th>senti</th>\n",
       "    </tr>\n",
       "  </thead>\n",
       "  <tbody>\n",
       "    <tr>\n",
       "      <th>0</th>\n",
       "      <td>nice expens park got good deal stay anniversar...</td>\n",
       "      <td>4.0</td>\n",
       "      <td>positive</td>\n",
       "      <td>{'neg': 0.088, 'neu': 0.671, 'pos': 0.241, 'co...</td>\n",
       "      <td>0.9419</td>\n",
       "      <td>0.353265</td>\n",
       "      <td>0.749286</td>\n",
       "      <td>Pos</td>\n",
       "    </tr>\n",
       "    <tr>\n",
       "      <th>1</th>\n",
       "      <td>ok noth special charg diamond member hilton de...</td>\n",
       "      <td>2.0</td>\n",
       "      <td>negative</td>\n",
       "      <td>{'neg': 0.042, 'neu': 0.747, 'pos': 0.21, 'com...</td>\n",
       "      <td>0.9916</td>\n",
       "      <td>0.294954</td>\n",
       "      <td>0.514051</td>\n",
       "      <td>Pos</td>\n",
       "    </tr>\n",
       "    <tr>\n",
       "      <th>2</th>\n",
       "      <td>nice not  experi monaco seattl good nt  levelp...</td>\n",
       "      <td>3.0</td>\n",
       "      <td>neutral</td>\n",
       "      <td>{'neg': 0.044, 'neu': 0.745, 'pos': 0.212, 'co...</td>\n",
       "      <td>0.9888</td>\n",
       "      <td>0.294513</td>\n",
       "      <td>0.591511</td>\n",
       "      <td>Pos</td>\n",
       "    </tr>\n",
       "    <tr>\n",
       "      <th>3</th>\n",
       "      <td>uniqu great stay wonder time monaco locat exce...</td>\n",
       "      <td>5.0</td>\n",
       "      <td>positive</td>\n",
       "      <td>{'neg': 0.0, 'neu': 0.61, 'pos': 0.39, 'compou...</td>\n",
       "      <td>0.9917</td>\n",
       "      <td>0.455556</td>\n",
       "      <td>0.640278</td>\n",
       "      <td>Pos</td>\n",
       "    </tr>\n",
       "    <tr>\n",
       "      <th>4</th>\n",
       "      <td>great stay great stay went seahawk game awesom...</td>\n",
       "      <td>5.0</td>\n",
       "      <td>positive</td>\n",
       "      <td>{'neg': 0.109, 'neu': 0.684, 'pos': 0.207, 'co...</td>\n",
       "      <td>0.9713</td>\n",
       "      <td>0.322078</td>\n",
       "      <td>0.537987</td>\n",
       "      <td>Pos</td>\n",
       "    </tr>\n",
       "    <tr>\n",
       "      <th>...</th>\n",
       "      <td>...</td>\n",
       "      <td>...</td>\n",
       "      <td>...</td>\n",
       "      <td>...</td>\n",
       "      <td>...</td>\n",
       "      <td>...</td>\n",
       "      <td>...</td>\n",
       "      <td>...</td>\n",
       "    </tr>\n",
       "    <tr>\n",
       "      <th>20486</th>\n",
       "      <td>best kept secret  time stay charm not  ca nt b...</td>\n",
       "      <td>5.0</td>\n",
       "      <td>positive</td>\n",
       "      <td>{'neg': 0.081, 'neu': 0.692, 'pos': 0.227, 'co...</td>\n",
       "      <td>0.9592</td>\n",
       "      <td>0.219896</td>\n",
       "      <td>0.541520</td>\n",
       "      <td>Pos</td>\n",
       "    </tr>\n",
       "    <tr>\n",
       "      <th>20487</th>\n",
       "      <td>great locat price view great quick place sight...</td>\n",
       "      <td>4.0</td>\n",
       "      <td>positive</td>\n",
       "      <td>{'neg': 0.0, 'neu': 0.588, 'pos': 0.412, 'comp...</td>\n",
       "      <td>0.9709</td>\n",
       "      <td>0.516667</td>\n",
       "      <td>0.625000</td>\n",
       "      <td>Pos</td>\n",
       "    </tr>\n",
       "    <tr>\n",
       "      <th>20488</th>\n",
       "      <td>ok look nice modern outsid desk staff nt parti...</td>\n",
       "      <td>2.0</td>\n",
       "      <td>negative</td>\n",
       "      <td>{'neg': 0.0, 'neu': 0.796, 'pos': 0.204, 'comp...</td>\n",
       "      <td>0.9022</td>\n",
       "      <td>0.263874</td>\n",
       "      <td>0.499026</td>\n",
       "      <td>Pos</td>\n",
       "    </tr>\n",
       "    <tr>\n",
       "      <th>20489</th>\n",
       "      <td>theft ruin vacat open sept   guest week happi ...</td>\n",
       "      <td>1.0</td>\n",
       "      <td>negative</td>\n",
       "      <td>{'neg': 0.129, 'neu': 0.743, 'pos': 0.128, 'co...</td>\n",
       "      <td>0.6896</td>\n",
       "      <td>0.123236</td>\n",
       "      <td>0.464726</td>\n",
       "      <td>Neg</td>\n",
       "    </tr>\n",
       "    <tr>\n",
       "      <th>20490</th>\n",
       "      <td>peopl talk ca nt believ excel rate nt ye patri...</td>\n",
       "      <td>2.0</td>\n",
       "      <td>negative</td>\n",
       "      <td>{'neg': 0.105, 'neu': 0.721, 'pos': 0.173, 'co...</td>\n",
       "      <td>0.8304</td>\n",
       "      <td>-0.012381</td>\n",
       "      <td>0.657143</td>\n",
       "      <td>Pos</td>\n",
       "    </tr>\n",
       "  </tbody>\n",
       "</table>\n",
       "<p>20491 rows × 8 columns</p>\n",
       "</div>"
      ],
      "text/plain": [
       "                                                  Review  Rating  Rating_2  \\\n",
       "0      nice expens park got good deal stay anniversar...     4.0  positive   \n",
       "1      ok noth special charg diamond member hilton de...     2.0  negative   \n",
       "2      nice not  experi monaco seattl good nt  levelp...     3.0   neutral   \n",
       "3      uniqu great stay wonder time monaco locat exce...     5.0  positive   \n",
       "4      great stay great stay went seahawk game awesom...     5.0  positive   \n",
       "...                                                  ...     ...       ...   \n",
       "20486  best kept secret  time stay charm not  ca nt b...     5.0  positive   \n",
       "20487  great locat price view great quick place sight...     4.0  positive   \n",
       "20488  ok look nice modern outsid desk staff nt parti...     2.0  negative   \n",
       "20489  theft ruin vacat open sept   guest week happi ...     1.0  negative   \n",
       "20490  peopl talk ca nt believ excel rate nt ye patri...     2.0  negative   \n",
       "\n",
       "                                                   score  compound  polarity  \\\n",
       "0      {'neg': 0.088, 'neu': 0.671, 'pos': 0.241, 'co...    0.9419  0.353265   \n",
       "1      {'neg': 0.042, 'neu': 0.747, 'pos': 0.21, 'com...    0.9916  0.294954   \n",
       "2      {'neg': 0.044, 'neu': 0.745, 'pos': 0.212, 'co...    0.9888  0.294513   \n",
       "3      {'neg': 0.0, 'neu': 0.61, 'pos': 0.39, 'compou...    0.9917  0.455556   \n",
       "4      {'neg': 0.109, 'neu': 0.684, 'pos': 0.207, 'co...    0.9713  0.322078   \n",
       "...                                                  ...       ...       ...   \n",
       "20486  {'neg': 0.081, 'neu': 0.692, 'pos': 0.227, 'co...    0.9592  0.219896   \n",
       "20487  {'neg': 0.0, 'neu': 0.588, 'pos': 0.412, 'comp...    0.9709  0.516667   \n",
       "20488  {'neg': 0.0, 'neu': 0.796, 'pos': 0.204, 'comp...    0.9022  0.263874   \n",
       "20489  {'neg': 0.129, 'neu': 0.743, 'pos': 0.128, 'co...    0.6896  0.123236   \n",
       "20490  {'neg': 0.105, 'neu': 0.721, 'pos': 0.173, 'co...    0.8304 -0.012381   \n",
       "\n",
       "       subjectivity senti  \n",
       "0          0.749286   Pos  \n",
       "1          0.514051   Pos  \n",
       "2          0.591511   Pos  \n",
       "3          0.640278   Pos  \n",
       "4          0.537987   Pos  \n",
       "...             ...   ...  \n",
       "20486      0.541520   Pos  \n",
       "20487      0.625000   Pos  \n",
       "20488      0.499026   Pos  \n",
       "20489      0.464726   Neg  \n",
       "20490      0.657143   Pos  \n",
       "\n",
       "[20491 rows x 8 columns]"
      ]
     },
     "execution_count": 117,
     "metadata": {},
     "output_type": "execute_result"
    }
   ],
   "source": [
    "df"
   ]
  },
  {
   "cell_type": "code",
   "execution_count": 118,
   "metadata": {
    "id": "7h80eKj9JCH8"
   },
   "outputs": [],
   "source": [
    "df[['polarity','subjectivity']]=df['Review'].apply(lambda text :pd.Series(TextBlob(text).sentiment))\n",
    "\n",
    "for index,row in df['Review'].iteritems():\n",
    "  Score= SentimentIntensityAnalyzer().polarity_scores(row)\n",
    "  neg=Score['neg']\n",
    "  neu=Score['neu']\n",
    "  pos=Score['pos']\n",
    "  if neg>pos:\n",
    "    df.loc[index,'senti']= 'Neg'\n",
    "  elif pos>neg:\n",
    "    df.loc[index,\"senti\"]='Pos'\n",
    "  else:\n",
    "    df.loc[index, 'senti']='Neu'"
   ]
  },
  {
   "cell_type": "code",
   "execution_count": 119,
   "metadata": {
    "colab": {
     "base_uri": "https://localhost:8080/",
     "height": 641
    },
    "id": "jrTIpbXcO4OS",
    "outputId": "7850bcc1-fdfc-4427-f91f-3cb6822127d3"
   },
   "outputs": [
    {
     "data": {
      "text/html": [
       "<div>\n",
       "<style scoped>\n",
       "    .dataframe tbody tr th:only-of-type {\n",
       "        vertical-align: middle;\n",
       "    }\n",
       "\n",
       "    .dataframe tbody tr th {\n",
       "        vertical-align: top;\n",
       "    }\n",
       "\n",
       "    .dataframe thead th {\n",
       "        text-align: right;\n",
       "    }\n",
       "</style>\n",
       "<table border=\"1\" class=\"dataframe\">\n",
       "  <thead>\n",
       "    <tr style=\"text-align: right;\">\n",
       "      <th></th>\n",
       "      <th>Review</th>\n",
       "      <th>Rating</th>\n",
       "      <th>Rating_2</th>\n",
       "      <th>score</th>\n",
       "      <th>compound</th>\n",
       "      <th>polarity</th>\n",
       "      <th>subjectivity</th>\n",
       "      <th>senti</th>\n",
       "    </tr>\n",
       "  </thead>\n",
       "  <tbody>\n",
       "    <tr>\n",
       "      <th>0</th>\n",
       "      <td>nice expens park got good deal stay anniversar...</td>\n",
       "      <td>4.0</td>\n",
       "      <td>positive</td>\n",
       "      <td>{'neg': 0.088, 'neu': 0.671, 'pos': 0.241, 'co...</td>\n",
       "      <td>0.9419</td>\n",
       "      <td>0.353265</td>\n",
       "      <td>0.749286</td>\n",
       "      <td>Pos</td>\n",
       "    </tr>\n",
       "    <tr>\n",
       "      <th>1</th>\n",
       "      <td>ok noth special charg diamond member hilton de...</td>\n",
       "      <td>2.0</td>\n",
       "      <td>negative</td>\n",
       "      <td>{'neg': 0.042, 'neu': 0.747, 'pos': 0.21, 'com...</td>\n",
       "      <td>0.9916</td>\n",
       "      <td>0.294954</td>\n",
       "      <td>0.514051</td>\n",
       "      <td>Pos</td>\n",
       "    </tr>\n",
       "    <tr>\n",
       "      <th>2</th>\n",
       "      <td>nice not  experi monaco seattl good nt  levelp...</td>\n",
       "      <td>3.0</td>\n",
       "      <td>neutral</td>\n",
       "      <td>{'neg': 0.044, 'neu': 0.745, 'pos': 0.212, 'co...</td>\n",
       "      <td>0.9888</td>\n",
       "      <td>0.294513</td>\n",
       "      <td>0.591511</td>\n",
       "      <td>Pos</td>\n",
       "    </tr>\n",
       "    <tr>\n",
       "      <th>3</th>\n",
       "      <td>uniqu great stay wonder time monaco locat exce...</td>\n",
       "      <td>5.0</td>\n",
       "      <td>positive</td>\n",
       "      <td>{'neg': 0.0, 'neu': 0.61, 'pos': 0.39, 'compou...</td>\n",
       "      <td>0.9917</td>\n",
       "      <td>0.455556</td>\n",
       "      <td>0.640278</td>\n",
       "      <td>Pos</td>\n",
       "    </tr>\n",
       "    <tr>\n",
       "      <th>4</th>\n",
       "      <td>great stay great stay went seahawk game awesom...</td>\n",
       "      <td>5.0</td>\n",
       "      <td>positive</td>\n",
       "      <td>{'neg': 0.109, 'neu': 0.684, 'pos': 0.207, 'co...</td>\n",
       "      <td>0.9713</td>\n",
       "      <td>0.322078</td>\n",
       "      <td>0.537987</td>\n",
       "      <td>Pos</td>\n",
       "    </tr>\n",
       "    <tr>\n",
       "      <th>...</th>\n",
       "      <td>...</td>\n",
       "      <td>...</td>\n",
       "      <td>...</td>\n",
       "      <td>...</td>\n",
       "      <td>...</td>\n",
       "      <td>...</td>\n",
       "      <td>...</td>\n",
       "      <td>...</td>\n",
       "    </tr>\n",
       "    <tr>\n",
       "      <th>20486</th>\n",
       "      <td>best kept secret  time stay charm not  ca nt b...</td>\n",
       "      <td>5.0</td>\n",
       "      <td>positive</td>\n",
       "      <td>{'neg': 0.081, 'neu': 0.692, 'pos': 0.227, 'co...</td>\n",
       "      <td>0.9592</td>\n",
       "      <td>0.219896</td>\n",
       "      <td>0.541520</td>\n",
       "      <td>Pos</td>\n",
       "    </tr>\n",
       "    <tr>\n",
       "      <th>20487</th>\n",
       "      <td>great locat price view great quick place sight...</td>\n",
       "      <td>4.0</td>\n",
       "      <td>positive</td>\n",
       "      <td>{'neg': 0.0, 'neu': 0.588, 'pos': 0.412, 'comp...</td>\n",
       "      <td>0.9709</td>\n",
       "      <td>0.516667</td>\n",
       "      <td>0.625000</td>\n",
       "      <td>Pos</td>\n",
       "    </tr>\n",
       "    <tr>\n",
       "      <th>20488</th>\n",
       "      <td>ok look nice modern outsid desk staff nt parti...</td>\n",
       "      <td>2.0</td>\n",
       "      <td>negative</td>\n",
       "      <td>{'neg': 0.0, 'neu': 0.796, 'pos': 0.204, 'comp...</td>\n",
       "      <td>0.9022</td>\n",
       "      <td>0.263874</td>\n",
       "      <td>0.499026</td>\n",
       "      <td>Pos</td>\n",
       "    </tr>\n",
       "    <tr>\n",
       "      <th>20489</th>\n",
       "      <td>theft ruin vacat open sept   guest week happi ...</td>\n",
       "      <td>1.0</td>\n",
       "      <td>negative</td>\n",
       "      <td>{'neg': 0.129, 'neu': 0.743, 'pos': 0.128, 'co...</td>\n",
       "      <td>0.6896</td>\n",
       "      <td>0.123236</td>\n",
       "      <td>0.464726</td>\n",
       "      <td>Neg</td>\n",
       "    </tr>\n",
       "    <tr>\n",
       "      <th>20490</th>\n",
       "      <td>peopl talk ca nt believ excel rate nt ye patri...</td>\n",
       "      <td>2.0</td>\n",
       "      <td>negative</td>\n",
       "      <td>{'neg': 0.105, 'neu': 0.721, 'pos': 0.173, 'co...</td>\n",
       "      <td>0.8304</td>\n",
       "      <td>-0.012381</td>\n",
       "      <td>0.657143</td>\n",
       "      <td>Pos</td>\n",
       "    </tr>\n",
       "  </tbody>\n",
       "</table>\n",
       "<p>20491 rows × 8 columns</p>\n",
       "</div>"
      ],
      "text/plain": [
       "                                                  Review  Rating  Rating_2  \\\n",
       "0      nice expens park got good deal stay anniversar...     4.0  positive   \n",
       "1      ok noth special charg diamond member hilton de...     2.0  negative   \n",
       "2      nice not  experi monaco seattl good nt  levelp...     3.0   neutral   \n",
       "3      uniqu great stay wonder time monaco locat exce...     5.0  positive   \n",
       "4      great stay great stay went seahawk game awesom...     5.0  positive   \n",
       "...                                                  ...     ...       ...   \n",
       "20486  best kept secret  time stay charm not  ca nt b...     5.0  positive   \n",
       "20487  great locat price view great quick place sight...     4.0  positive   \n",
       "20488  ok look nice modern outsid desk staff nt parti...     2.0  negative   \n",
       "20489  theft ruin vacat open sept   guest week happi ...     1.0  negative   \n",
       "20490  peopl talk ca nt believ excel rate nt ye patri...     2.0  negative   \n",
       "\n",
       "                                                   score  compound  polarity  \\\n",
       "0      {'neg': 0.088, 'neu': 0.671, 'pos': 0.241, 'co...    0.9419  0.353265   \n",
       "1      {'neg': 0.042, 'neu': 0.747, 'pos': 0.21, 'com...    0.9916  0.294954   \n",
       "2      {'neg': 0.044, 'neu': 0.745, 'pos': 0.212, 'co...    0.9888  0.294513   \n",
       "3      {'neg': 0.0, 'neu': 0.61, 'pos': 0.39, 'compou...    0.9917  0.455556   \n",
       "4      {'neg': 0.109, 'neu': 0.684, 'pos': 0.207, 'co...    0.9713  0.322078   \n",
       "...                                                  ...       ...       ...   \n",
       "20486  {'neg': 0.081, 'neu': 0.692, 'pos': 0.227, 'co...    0.9592  0.219896   \n",
       "20487  {'neg': 0.0, 'neu': 0.588, 'pos': 0.412, 'comp...    0.9709  0.516667   \n",
       "20488  {'neg': 0.0, 'neu': 0.796, 'pos': 0.204, 'comp...    0.9022  0.263874   \n",
       "20489  {'neg': 0.129, 'neu': 0.743, 'pos': 0.128, 'co...    0.6896  0.123236   \n",
       "20490  {'neg': 0.105, 'neu': 0.721, 'pos': 0.173, 'co...    0.8304 -0.012381   \n",
       "\n",
       "       subjectivity senti  \n",
       "0          0.749286   Pos  \n",
       "1          0.514051   Pos  \n",
       "2          0.591511   Pos  \n",
       "3          0.640278   Pos  \n",
       "4          0.537987   Pos  \n",
       "...             ...   ...  \n",
       "20486      0.541520   Pos  \n",
       "20487      0.625000   Pos  \n",
       "20488      0.499026   Pos  \n",
       "20489      0.464726   Neg  \n",
       "20490      0.657143   Pos  \n",
       "\n",
       "[20491 rows x 8 columns]"
      ]
     },
     "execution_count": 119,
     "metadata": {},
     "output_type": "execute_result"
    }
   ],
   "source": [
    "df"
   ]
  },
  {
   "cell_type": "code",
   "execution_count": 120,
   "metadata": {
    "colab": {
     "base_uri": "https://localhost:8080/"
    },
    "id": "-xwkvzaNR1lp",
    "outputId": "bf0f87b9-3a33-4088-c0b8-8a497af31082"
   },
   "outputs": [
    {
     "data": {
      "text/plain": [
       "Pos    19142\n",
       "Neg     1296\n",
       "Neu       53\n",
       "Name: senti, dtype: int64"
      ]
     },
     "execution_count": 120,
     "metadata": {},
     "output_type": "execute_result"
    }
   ],
   "source": [
    "df['senti'].value_counts()"
   ]
  },
  {
   "cell_type": "code",
   "execution_count": 121,
   "metadata": {
    "colab": {
     "base_uri": "https://localhost:8080/"
    },
    "id": "qumDhr1cUsPy",
    "outputId": "3f1f678b-f5b5-454b-94e4-040e02928e54"
   },
   "outputs": [
    {
     "data": {
      "text/plain": [
       "5.0    9054\n",
       "4.0    6039\n",
       "3.0    2184\n",
       "2.0    1793\n",
       "1.0    1421\n",
       "Name: Rating, dtype: int64"
      ]
     },
     "execution_count": 121,
     "metadata": {},
     "output_type": "execute_result"
    }
   ],
   "source": [
    "df['Rating'].value_counts()"
   ]
  },
  {
   "cell_type": "code",
   "execution_count": 122,
   "metadata": {
    "colab": {
     "base_uri": "https://localhost:8080/"
    },
    "id": "cm8PfClUV0Qr",
    "outputId": "c32027ef-d63a-432d-a44c-91abf9acb29d"
   },
   "outputs": [
    {
     "data": {
      "text/plain": [
       "0        nice expens park got good deal stay anniversar...\n",
       "1        ok noth special charg diamond member hilton de...\n",
       "2        nice not  experi monaco seattl good nt  levelp...\n",
       "3        uniqu great stay wonder time monaco locat exce...\n",
       "4        great stay great stay went seahawk game awesom...\n",
       "                               ...                        \n",
       "20486    best kept secret  time stay charm not  ca nt b...\n",
       "20487    great locat price view great quick place sight...\n",
       "20488    ok look nice modern outsid desk staff nt parti...\n",
       "20489    theft ruin vacat open sept   guest week happi ...\n",
       "20490    peopl talk ca nt believ excel rate nt ye patri...\n",
       "Name: Review, Length: 20491, dtype: object"
      ]
     },
     "execution_count": 122,
     "metadata": {},
     "output_type": "execute_result"
    }
   ],
   "source": [
    "df['Review']"
   ]
  },
  {
   "cell_type": "code",
   "execution_count": 123,
   "metadata": {
    "id": "KuH-C9myQC8n"
   },
   "outputs": [],
   "source": [
    "reviews_vader=df.copy()"
   ]
  },
  {
   "cell_type": "code",
   "execution_count": 124,
   "metadata": {
    "colab": {
     "base_uri": "https://localhost:8080/",
     "height": 641
    },
    "id": "IOGZGxfIRwo_",
    "outputId": "e27b2f5c-569d-4385-fc8e-f64eeb08be8a",
    "scrolled": false
   },
   "outputs": [
    {
     "data": {
      "text/html": [
       "<div>\n",
       "<style scoped>\n",
       "    .dataframe tbody tr th:only-of-type {\n",
       "        vertical-align: middle;\n",
       "    }\n",
       "\n",
       "    .dataframe tbody tr th {\n",
       "        vertical-align: top;\n",
       "    }\n",
       "\n",
       "    .dataframe thead th {\n",
       "        text-align: right;\n",
       "    }\n",
       "</style>\n",
       "<table border=\"1\" class=\"dataframe\">\n",
       "  <thead>\n",
       "    <tr style=\"text-align: right;\">\n",
       "      <th></th>\n",
       "      <th>Review</th>\n",
       "      <th>Rating</th>\n",
       "      <th>Rating_2</th>\n",
       "      <th>score</th>\n",
       "      <th>compound</th>\n",
       "      <th>polarity</th>\n",
       "      <th>subjectivity</th>\n",
       "      <th>senti</th>\n",
       "      <th>sentiment_polarity</th>\n",
       "    </tr>\n",
       "  </thead>\n",
       "  <tbody>\n",
       "    <tr>\n",
       "      <th>0</th>\n",
       "      <td>nice expens park got good deal stay anniversar...</td>\n",
       "      <td>4.0</td>\n",
       "      <td>positive</td>\n",
       "      <td>{'neg': 0.088, 'neu': 0.671, 'pos': 0.241, 'co...</td>\n",
       "      <td>0.9419</td>\n",
       "      <td>0.353265</td>\n",
       "      <td>0.749286</td>\n",
       "      <td>Pos</td>\n",
       "      <td>0.9419</td>\n",
       "    </tr>\n",
       "    <tr>\n",
       "      <th>1</th>\n",
       "      <td>ok noth special charg diamond member hilton de...</td>\n",
       "      <td>2.0</td>\n",
       "      <td>negative</td>\n",
       "      <td>{'neg': 0.042, 'neu': 0.747, 'pos': 0.21, 'com...</td>\n",
       "      <td>0.9916</td>\n",
       "      <td>0.294954</td>\n",
       "      <td>0.514051</td>\n",
       "      <td>Pos</td>\n",
       "      <td>0.9916</td>\n",
       "    </tr>\n",
       "    <tr>\n",
       "      <th>2</th>\n",
       "      <td>nice not  experi monaco seattl good nt  levelp...</td>\n",
       "      <td>3.0</td>\n",
       "      <td>neutral</td>\n",
       "      <td>{'neg': 0.044, 'neu': 0.745, 'pos': 0.212, 'co...</td>\n",
       "      <td>0.9888</td>\n",
       "      <td>0.294513</td>\n",
       "      <td>0.591511</td>\n",
       "      <td>Pos</td>\n",
       "      <td>0.9888</td>\n",
       "    </tr>\n",
       "    <tr>\n",
       "      <th>3</th>\n",
       "      <td>uniqu great stay wonder time monaco locat exce...</td>\n",
       "      <td>5.0</td>\n",
       "      <td>positive</td>\n",
       "      <td>{'neg': 0.0, 'neu': 0.61, 'pos': 0.39, 'compou...</td>\n",
       "      <td>0.9917</td>\n",
       "      <td>0.455556</td>\n",
       "      <td>0.640278</td>\n",
       "      <td>Pos</td>\n",
       "      <td>0.9917</td>\n",
       "    </tr>\n",
       "    <tr>\n",
       "      <th>4</th>\n",
       "      <td>great stay great stay went seahawk game awesom...</td>\n",
       "      <td>5.0</td>\n",
       "      <td>positive</td>\n",
       "      <td>{'neg': 0.109, 'neu': 0.684, 'pos': 0.207, 'co...</td>\n",
       "      <td>0.9713</td>\n",
       "      <td>0.322078</td>\n",
       "      <td>0.537987</td>\n",
       "      <td>Pos</td>\n",
       "      <td>0.9713</td>\n",
       "    </tr>\n",
       "    <tr>\n",
       "      <th>...</th>\n",
       "      <td>...</td>\n",
       "      <td>...</td>\n",
       "      <td>...</td>\n",
       "      <td>...</td>\n",
       "      <td>...</td>\n",
       "      <td>...</td>\n",
       "      <td>...</td>\n",
       "      <td>...</td>\n",
       "      <td>...</td>\n",
       "    </tr>\n",
       "    <tr>\n",
       "      <th>20486</th>\n",
       "      <td>best kept secret  time stay charm not  ca nt b...</td>\n",
       "      <td>5.0</td>\n",
       "      <td>positive</td>\n",
       "      <td>{'neg': 0.081, 'neu': 0.692, 'pos': 0.227, 'co...</td>\n",
       "      <td>0.9592</td>\n",
       "      <td>0.219896</td>\n",
       "      <td>0.541520</td>\n",
       "      <td>Pos</td>\n",
       "      <td>0.9592</td>\n",
       "    </tr>\n",
       "    <tr>\n",
       "      <th>20487</th>\n",
       "      <td>great locat price view great quick place sight...</td>\n",
       "      <td>4.0</td>\n",
       "      <td>positive</td>\n",
       "      <td>{'neg': 0.0, 'neu': 0.588, 'pos': 0.412, 'comp...</td>\n",
       "      <td>0.9709</td>\n",
       "      <td>0.516667</td>\n",
       "      <td>0.625000</td>\n",
       "      <td>Pos</td>\n",
       "      <td>0.9709</td>\n",
       "    </tr>\n",
       "    <tr>\n",
       "      <th>20488</th>\n",
       "      <td>ok look nice modern outsid desk staff nt parti...</td>\n",
       "      <td>2.0</td>\n",
       "      <td>negative</td>\n",
       "      <td>{'neg': 0.0, 'neu': 0.796, 'pos': 0.204, 'comp...</td>\n",
       "      <td>0.9022</td>\n",
       "      <td>0.263874</td>\n",
       "      <td>0.499026</td>\n",
       "      <td>Pos</td>\n",
       "      <td>0.9022</td>\n",
       "    </tr>\n",
       "    <tr>\n",
       "      <th>20489</th>\n",
       "      <td>theft ruin vacat open sept   guest week happi ...</td>\n",
       "      <td>1.0</td>\n",
       "      <td>negative</td>\n",
       "      <td>{'neg': 0.129, 'neu': 0.743, 'pos': 0.128, 'co...</td>\n",
       "      <td>0.6896</td>\n",
       "      <td>0.123236</td>\n",
       "      <td>0.464726</td>\n",
       "      <td>Neg</td>\n",
       "      <td>0.6896</td>\n",
       "    </tr>\n",
       "    <tr>\n",
       "      <th>20490</th>\n",
       "      <td>peopl talk ca nt believ excel rate nt ye patri...</td>\n",
       "      <td>2.0</td>\n",
       "      <td>negative</td>\n",
       "      <td>{'neg': 0.105, 'neu': 0.721, 'pos': 0.173, 'co...</td>\n",
       "      <td>0.8304</td>\n",
       "      <td>-0.012381</td>\n",
       "      <td>0.657143</td>\n",
       "      <td>Pos</td>\n",
       "      <td>0.8304</td>\n",
       "    </tr>\n",
       "  </tbody>\n",
       "</table>\n",
       "<p>20491 rows × 9 columns</p>\n",
       "</div>"
      ],
      "text/plain": [
       "                                                  Review  Rating  Rating_2  \\\n",
       "0      nice expens park got good deal stay anniversar...     4.0  positive   \n",
       "1      ok noth special charg diamond member hilton de...     2.0  negative   \n",
       "2      nice not  experi monaco seattl good nt  levelp...     3.0   neutral   \n",
       "3      uniqu great stay wonder time monaco locat exce...     5.0  positive   \n",
       "4      great stay great stay went seahawk game awesom...     5.0  positive   \n",
       "...                                                  ...     ...       ...   \n",
       "20486  best kept secret  time stay charm not  ca nt b...     5.0  positive   \n",
       "20487  great locat price view great quick place sight...     4.0  positive   \n",
       "20488  ok look nice modern outsid desk staff nt parti...     2.0  negative   \n",
       "20489  theft ruin vacat open sept   guest week happi ...     1.0  negative   \n",
       "20490  peopl talk ca nt believ excel rate nt ye patri...     2.0  negative   \n",
       "\n",
       "                                                   score  compound  polarity  \\\n",
       "0      {'neg': 0.088, 'neu': 0.671, 'pos': 0.241, 'co...    0.9419  0.353265   \n",
       "1      {'neg': 0.042, 'neu': 0.747, 'pos': 0.21, 'com...    0.9916  0.294954   \n",
       "2      {'neg': 0.044, 'neu': 0.745, 'pos': 0.212, 'co...    0.9888  0.294513   \n",
       "3      {'neg': 0.0, 'neu': 0.61, 'pos': 0.39, 'compou...    0.9917  0.455556   \n",
       "4      {'neg': 0.109, 'neu': 0.684, 'pos': 0.207, 'co...    0.9713  0.322078   \n",
       "...                                                  ...       ...       ...   \n",
       "20486  {'neg': 0.081, 'neu': 0.692, 'pos': 0.227, 'co...    0.9592  0.219896   \n",
       "20487  {'neg': 0.0, 'neu': 0.588, 'pos': 0.412, 'comp...    0.9709  0.516667   \n",
       "20488  {'neg': 0.0, 'neu': 0.796, 'pos': 0.204, 'comp...    0.9022  0.263874   \n",
       "20489  {'neg': 0.129, 'neu': 0.743, 'pos': 0.128, 'co...    0.6896  0.123236   \n",
       "20490  {'neg': 0.105, 'neu': 0.721, 'pos': 0.173, 'co...    0.8304 -0.012381   \n",
       "\n",
       "       subjectivity senti  sentiment_polarity  \n",
       "0          0.749286   Pos              0.9419  \n",
       "1          0.514051   Pos              0.9916  \n",
       "2          0.591511   Pos              0.9888  \n",
       "3          0.640278   Pos              0.9917  \n",
       "4          0.537987   Pos              0.9713  \n",
       "...             ...   ...                 ...  \n",
       "20486      0.541520   Pos              0.9592  \n",
       "20487      0.625000   Pos              0.9709  \n",
       "20488      0.499026   Pos              0.9022  \n",
       "20489      0.464726   Neg              0.6896  \n",
       "20490      0.657143   Pos              0.8304  \n",
       "\n",
       "[20491 rows x 9 columns]"
      ]
     },
     "execution_count": 124,
     "metadata": {},
     "output_type": "execute_result"
    }
   ],
   "source": [
    "reviews_vader['sentiment_polarity']=reviews_vader.Review.apply(lambda x:sentiment.polarity_scores(x)['compound'])\n",
    "reviews_vader"
   ]
  },
  {
   "cell_type": "code",
   "execution_count": 125,
   "metadata": {
    "colab": {
     "base_uri": "https://localhost:8080/"
    },
    "id": "4gJqamSrSYps",
    "outputId": "281c1cee-3da4-4b6c-d122-cd2ee6391f2d"
   },
   "outputs": [
    {
     "name": "stdout",
     "output_type": "stream",
     "text": [
      "polarity for rating 1: 0.09408676988036589\n",
      "polarity for rating 2: 0.4960227551589513\n",
      "polarity for rating 3: 0.7741500457875438\n",
      "polarity for rating 4: 0.9065878787878774\n",
      "polarity for rating 5: 0.9227194499668623\n"
     ]
    }
   ],
   "source": [
    "for i in range(0,5):\n",
    "    m=reviews_vader[reviews_vader.Rating==i+1].sentiment_polarity.mean()\n",
    "    print(\"polarity for rating {}: {}\".format(i+1,m))"
   ]
  },
  {
   "cell_type": "code",
   "execution_count": null,
   "metadata": {
    "id": "uv8HdjJ6LMqF"
   },
   "outputs": [],
   "source": []
  },
  {
   "cell_type": "code",
   "execution_count": null,
   "metadata": {},
   "outputs": [],
   "source": []
  },
  {
   "cell_type": "code",
   "execution_count": 128,
   "metadata": {},
   "outputs": [],
   "source": [
    "from sklearn.linear_model import LogisticRegression"
   ]
  },
  {
   "cell_type": "code",
   "execution_count": 1,
   "metadata": {},
   "outputs": [
    {
     "ename": "NameError",
     "evalue": "name 'LogisticRegression' is not defined",
     "output_type": "error",
     "traceback": [
      "\u001b[0;31m---------------------------------------------------------------------------\u001b[0m",
      "\u001b[0;31mNameError\u001b[0m                                 Traceback (most recent call last)",
      "Input \u001b[0;32mIn [1]\u001b[0m, in \u001b[0;36m<cell line: 1>\u001b[0;34m()\u001b[0m\n\u001b[0;32m----> 1\u001b[0m model \u001b[38;5;241m=\u001b[39m \u001b[43mLogisticRegression\u001b[49m()\n\u001b[1;32m      2\u001b[0m model\u001b[38;5;241m.\u001b[39mfit(X_train,y_train)\n",
      "\u001b[0;31mNameError\u001b[0m: name 'LogisticRegression' is not defined"
     ]
    }
   ],
   "source": [
    "model = LogisticRegression()\n",
    "model.fit(X_train,y_train)"
   ]
  },
  {
   "cell_type": "code",
   "execution_count": null,
   "metadata": {},
   "outputs": [],
   "source": []
  }
 ],
 "metadata": {
  "colab": {
   "provenance": []
  },
  "kernelspec": {
   "display_name": "Python 3 (ipykernel)",
   "language": "python",
   "name": "python3"
  },
  "language_info": {
   "codemirror_mode": {
    "name": "ipython",
    "version": 3
   },
   "file_extension": ".py",
   "mimetype": "text/x-python",
   "name": "python",
   "nbconvert_exporter": "python",
   "pygments_lexer": "ipython3",
   "version": "3.9.12"
  }
 },
 "nbformat": 4,
 "nbformat_minor": 1
}
